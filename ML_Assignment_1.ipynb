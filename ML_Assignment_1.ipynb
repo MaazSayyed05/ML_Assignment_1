{
 "cells": [
  {
   "cell_type": "code",
   "execution_count": 1,
   "id": "ffaa7a2c-4de3-4742-9d59-f979ba006ff3",
   "metadata": {},
   "outputs": [],
   "source": [
    "# Q1\n",
    "# 1. AI\n",
    "# --> It is a Samrt Application that can perform any tasks without Human Intervention.\n",
    "# E.g: ChatGPT, Smart Car,etc.\n",
    "\n",
    "# 2. ML\n",
    "# --> It is subset of AI which provides Stats Tools to Analyze, Visualize, develop Productive Models, Forecastig,etc.\n",
    "# E.g: Recommendation Systems, \n",
    "\n",
    "# 3. DL\n",
    "# --> It is subset of ML which mimic Human Brain (it uses Multi-Layered Neural Network).\n",
    "# E.g: Object Detection, Image Recognition,etc."
   ]
  },
  {
   "cell_type": "code",
   "execution_count": 2,
   "id": "b5e84166-2581-46cc-8a63-64ce37a74fd9",
   "metadata": {},
   "outputs": [],
   "source": [
    "# Q2\n",
    "# --> It is a type of ML in which model train is trained on on training dataset(input data) and output is predicted. Here, output feature of model is already known.\n",
    "# E.g: Classification (Prdicting whether student pass/fail on input data as its playing hour and study hour) and Regression(Predicting house price on input data as location, no. of rooms,Size of rooms,etc.)"
   ]
  },
  {
   "cell_type": "code",
   "execution_count": 3,
   "id": "f76cc1e0-e202-462b-9d79-816959acf345",
   "metadata": {},
   "outputs": [],
   "source": [
    "# Q3\n",
    "# --> Here, the output of model is unknown. It is not traine on a particular input dataset. It is nothing but clustring or grouping of similar data.\n",
    "# E.g: Customer Segmentaion for Mall Products."
   ]
  },
  {
   "cell_type": "code",
   "execution_count": 4,
   "id": "78e0381a-6d17-45f5-891c-1f09113c8042",
   "metadata": {},
   "outputs": [],
   "source": [
    "# Q4\n",
    "# AI--> It is a Samrt Application that can perform any tasks without Human Intervention.\n",
    "# ML--> It is subset of AI which provides Stats Tools to Analyze, Visualize, develop Productive Models, Forecastig,etc.\n",
    "# DL--> It is subset of ML which mimic Human Brain (it uses Multi-Layered Neural Network).\n",
    "# DS--> A Data Scientist can wotk in any of the above domain."
   ]
  },
  {
   "cell_type": "code",
   "execution_count": 5,
   "id": "3cd1de5b-5a0e-43f5-b1e7-e30d6d70d50d",
   "metadata": {},
   "outputs": [],
   "source": [
    "# Q5\n",
    "# Supervised Learning-->  It is a type of ML in which model train is trained on on training dataset(input data) and output is predicted. Here, output feature of model is already known.\n",
    "# Unsupervised Learning--> Here, the output of model is unknown. It is not traine on a particular input dataset. It is nothing but clustring or grouping of similar data.\n",
    "# Semi-Supervised Learning--> It is combination of Supervised and Unsupervised Learning."
   ]
  },
  {
   "cell_type": "code",
   "execution_count": 6,
   "id": "c8e35fac-428f-4e0e-bf78-77fffaa73cfe",
   "metadata": {},
   "outputs": [],
   "source": [
    "# Q6\n",
    "# Training Dataset--> It is used to train the model.\n",
    "# Validation Dataste--> It is used for Hyper Parameter Tuning of model.\n",
    "# Testing Dataste--> It is used to test the model."
   ]
  },
  {
   "cell_type": "code",
   "execution_count": 7,
   "id": "ef22997a-d105-4b4c-8a17-31c2c6ff7c07",
   "metadata": {},
   "outputs": [],
   "source": [
    "# Q7\n",
    "# --> The objective of Unsupervised Anomaly Detection is to detect previously unseen rare objects or events without any prior knowledge about these"
   ]
  },
  {
   "cell_type": "code",
   "execution_count": 8,
   "id": "0efe9c31-36b5-4b73-93a6-44f03d31a5e8",
   "metadata": {},
   "outputs": [],
   "source": [
    "# Q8\n",
    "# Supervised Learning Algorithm--> decision tree, logistic regression, linear regression, support vector machine,etc.\n",
    "# Unsupervised Learning Algorithm--> K-means algorithm, KNN, Anomaly Detection,etc."
   ]
  },
  {
   "cell_type": "code",
   "execution_count": null,
   "id": "52edd3c1-73cd-4aca-ac01-af2e55586cf6",
   "metadata": {},
   "outputs": [],
   "source": []
  }
 ],
 "metadata": {
  "kernelspec": {
   "display_name": "Python 3 (ipykernel)",
   "language": "python",
   "name": "python3"
  },
  "language_info": {
   "codemirror_mode": {
    "name": "ipython",
    "version": 3
   },
   "file_extension": ".py",
   "mimetype": "text/x-python",
   "name": "python",
   "nbconvert_exporter": "python",
   "pygments_lexer": "ipython3",
   "version": "3.10.8"
  }
 },
 "nbformat": 4,
 "nbformat_minor": 5
}
